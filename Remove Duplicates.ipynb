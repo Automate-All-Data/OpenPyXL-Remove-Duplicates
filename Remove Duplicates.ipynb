{
 "cells": [
  {
   "cell_type": "code",
   "execution_count": null,
   "id": "7fd96487-68d2-433d-8e55-7585ad597029",
   "metadata": {},
   "outputs": [],
   "source": [
    "from openpyxl import load_workbook\n",
    "wb = load_workbook('test.xlsx')\n",
    "ws = wb.active"
   ]
  },
  {
   "cell_type": "code",
   "execution_count": null,
   "id": "ad8e245e-3749-45f8-bdbb-2b53cf026444",
   "metadata": {},
   "outputs": [],
   "source": [
    "wb.save('test.xlsx')"
   ]
  },
  {
   "cell_type": "code",
   "execution_count": null,
   "id": "80636577-f0b0-40c8-a99b-dab69b0733ce",
   "metadata": {},
   "outputs": [],
   "source": [
    "unique_rows = set()\n",
    "for row in ws.iter_rows(2, values_only = True):\n",
    "    unique_rows.add(tuple(row))"
   ]
  },
  {
   "cell_type": "code",
   "execution_count": null,
   "id": "b79fc6ed-eb1a-4b8f-bfc8-78b498ad2e95",
   "metadata": {},
   "outputs": [],
   "source": [
    "unique_rows"
   ]
  },
  {
   "cell_type": "code",
   "execution_count": null,
   "id": "e35cdbea-1a21-4f08-aa75-df1a78568c4f",
   "metadata": {},
   "outputs": [],
   "source": [
    "ws.delete_rows(2, ws.max_row)"
   ]
  },
  {
   "cell_type": "code",
   "execution_count": null,
   "id": "cbb04983-89db-4ea0-ac3e-acfeaf67b963",
   "metadata": {},
   "outputs": [],
   "source": [
    "for unique_row in unique_rows:\n",
    "    ws.append(unique_row)"
   ]
  },
  {
   "cell_type": "code",
   "execution_count": null,
   "id": "5a8ff663-344d-413f-9e5a-a22a7edabdb3",
   "metadata": {},
   "outputs": [],
   "source": []
  }
 ],
 "metadata": {
  "kernelspec": {
   "display_name": "Python 3 (ipykernel)",
   "language": "python",
   "name": "python3"
  },
  "language_info": {
   "codemirror_mode": {
    "name": "ipython",
    "version": 3
   },
   "file_extension": ".py",
   "mimetype": "text/x-python",
   "name": "python",
   "nbconvert_exporter": "python",
   "pygments_lexer": "ipython3",
   "version": "3.8.18"
  }
 },
 "nbformat": 4,
 "nbformat_minor": 5
}
